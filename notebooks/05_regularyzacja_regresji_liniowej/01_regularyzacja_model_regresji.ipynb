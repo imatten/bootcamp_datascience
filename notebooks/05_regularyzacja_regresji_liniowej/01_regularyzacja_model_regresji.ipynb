{
 "cells": [
  {
   "cell_type": "markdown",
   "metadata": {},
   "source": [
    "# Regularyzacja w modelu regresji - wstęp"
   ]
  },
  {
   "cell_type": "code",
   "execution_count": 2,
   "metadata": {},
   "outputs": [],
   "source": [
    "import numpy as np\n",
    "import pandas as pd\n",
    "import random\n",
    "\n",
    "import matplotlib.pyplot as plt\n",
    "%matplotlib inline\n",
    "\n",
    "from matplotlib.pylab import rcParams\n",
    "rcParams['figure.figsize'] = 12, 10\n",
    "\n",
    "from scipy import stats\n",
    "from patsy import dmatrices\n",
    "\n",
    "from sklearn.linear_model import LinearRegression\n",
    "from sklearn.linear_model import Ridge\n",
    "from sklearn.linear_model import Lasso\n",
    "from sklearn.preprocessing import StandardScaler\n",
    "from sklearn.pipeline import make_pipeline\n",
    "from sklearn.preprocessing import PolynomialFeatures"
   ]
  },
  {
   "cell_type": "markdown",
   "metadata": {},
   "source": [
    "# Zadanie 1a"
   ]
  },
  {
   "cell_type": "markdown",
   "metadata": {},
   "source": [
    "Wygeneruj $n$ par punktów (x, y) takich, że\n",
    "$$\n",
    "y = x - 2x^2 + 0.5x^3 + e,\n",
    "$$\n",
    "gdzie $e\\sim\\mathcal{N}(\\mu, \\sigma)$. \n",
    "A następnie dopasuj model\n",
    "\n",
    "a) regresji liniowej: $y=\\beta_0 + \\beta_1\\cdot x$\n",
    "\n",
    "b) regresji wielomianowej stopnia 2: $y=\\beta_0 + \\beta_1\\cdot x + \\beta_2\\cdot x^2$,\n",
    "\n",
    "c) regresji wielomianowej stopnia 3: $y=\\beta_0 + \\beta_1\\cdot x + \\beta_2\\cdot x^2 + \\beta_3\\cdot x^3$,\n",
    "\n",
    "d) regresji wielomianowej stopnia 20: $y=\\beta_0 + \\beta_1\\cdot x + \\beta_2\\cdot x^2 + \\ldots + \\beta_{20}\\cdot x^{20}$.\n",
    "\n",
    "Zaznacz na wykresie rozproszenia punktów $(x, y)$ funkcję regresji.\n",
    "\n",
    "**Wskazówka**: `ols('y ~ x + I(x**k)', data_frame)` z `statsmodels.formula.api` lub `PolynomialFeatures` z `sklearn.preprocessing`"
   ]
  },
  {
   "cell_type": "code",
   "execution_count": null,
   "metadata": {},
   "outputs": [],
   "source": []
  },
  {
   "cell_type": "code",
   "execution_count": null,
   "metadata": {},
   "outputs": [],
   "source": []
  },
  {
   "cell_type": "code",
   "execution_count": null,
   "metadata": {},
   "outputs": [],
   "source": []
  },
  {
   "cell_type": "code",
   "execution_count": null,
   "metadata": {},
   "outputs": [],
   "source": []
  },
  {
   "cell_type": "code",
   "execution_count": null,
   "metadata": {},
   "outputs": [],
   "source": []
  },
  {
   "cell_type": "code",
   "execution_count": null,
   "metadata": {},
   "outputs": [],
   "source": []
  },
  {
   "cell_type": "code",
   "execution_count": null,
   "metadata": {},
   "outputs": [],
   "source": []
  },
  {
   "cell_type": "code",
   "execution_count": null,
   "metadata": {},
   "outputs": [],
   "source": []
  },
  {
   "cell_type": "code",
   "execution_count": null,
   "metadata": {},
   "outputs": [],
   "source": []
  },
  {
   "cell_type": "code",
   "execution_count": null,
   "metadata": {},
   "outputs": [],
   "source": []
  },
  {
   "cell_type": "markdown",
   "metadata": {},
   "source": [
    "# Zadanie 1b"
   ]
  },
  {
   "cell_type": "markdown",
   "metadata": {},
   "source": [
    "Dla wygenerowanej pary punktów dopasuj model regresji:\n",
    "\n",
    "a) wielomianowej stopnia 20 z regularyzacją grzbietową (Ridge) z parametrem $\\alpha = 0.1$,\n",
    "\n",
    "b) wielomianowej stopnia 20 z regularyzacją Lasso z parametrem $\\alpha = 0.1$.\n",
    "\n",
    "Powtórz podpunkt a) i b) dla różnych wartości parametru $\\alpha$, np. $\\alpha \\in \\{0.001, 0.005, 0.01, 0.5, 1, 5\\}$."
   ]
  },
  {
   "cell_type": "code",
   "execution_count": null,
   "metadata": {},
   "outputs": [],
   "source": []
  },
  {
   "cell_type": "code",
   "execution_count": null,
   "metadata": {},
   "outputs": [],
   "source": []
  },
  {
   "cell_type": "code",
   "execution_count": null,
   "metadata": {},
   "outputs": [],
   "source": []
  },
  {
   "cell_type": "code",
   "execution_count": null,
   "metadata": {},
   "outputs": [],
   "source": []
  },
  {
   "cell_type": "code",
   "execution_count": null,
   "metadata": {},
   "outputs": [],
   "source": []
  },
  {
   "cell_type": "code",
   "execution_count": null,
   "metadata": {},
   "outputs": [],
   "source": []
  },
  {
   "cell_type": "code",
   "execution_count": null,
   "metadata": {},
   "outputs": [],
   "source": []
  },
  {
   "cell_type": "code",
   "execution_count": null,
   "metadata": {},
   "outputs": [],
   "source": []
  },
  {
   "cell_type": "code",
   "execution_count": null,
   "metadata": {},
   "outputs": [],
   "source": []
  },
  {
   "cell_type": "markdown",
   "metadata": {},
   "source": [
    "# Zadanie 2"
   ]
  },
  {
   "cell_type": "markdown",
   "metadata": {},
   "source": [
    "Narysuj wykres funkcji \n",
    "$$y = cos(x) + \\epsilon$$\n",
    "dla $x \\in [\\pi, \\frac{2}{3}\\pi]$ oraz $\\epsilon \\in N(0, 0.25)$.\n",
    "\n",
    "Dopasuj model regresji:\n",
    "- liniowej\n",
    "- wielomianej stopnia 2, 10 i 20,\n",
    "- wielomianej stopnia 20 z regularyzacja Ridge z parametrem $\\alpha\\in\\{0.001, 0.01, 0.1, 1, 2\\}$.\n",
    "- wielomianej stopnia 20 z regularyzacją Lasso z parametrem $\\alpha\\in\\{0.001, 0.01, 0.1, 1, 2\\}$.\n",
    "\n",
    "**Wskazówka**: Napisz funkcję, która dla dowolnego zbioru dopasuje odpowiedni model."
   ]
  },
  {
   "cell_type": "code",
   "execution_count": null,
   "metadata": {},
   "outputs": [],
   "source": []
  },
  {
   "cell_type": "code",
   "execution_count": null,
   "metadata": {},
   "outputs": [],
   "source": []
  },
  {
   "cell_type": "code",
   "execution_count": null,
   "metadata": {},
   "outputs": [],
   "source": []
  },
  {
   "cell_type": "code",
   "execution_count": null,
   "metadata": {},
   "outputs": [],
   "source": []
  },
  {
   "cell_type": "code",
   "execution_count": null,
   "metadata": {},
   "outputs": [],
   "source": []
  },
  {
   "cell_type": "code",
   "execution_count": null,
   "metadata": {},
   "outputs": [],
   "source": []
  },
  {
   "cell_type": "code",
   "execution_count": null,
   "metadata": {},
   "outputs": [],
   "source": []
  }
 ],
 "metadata": {
  "kernelspec": {
   "display_name": "Python 3",
   "language": "python",
   "name": "python3"
  },
  "language_info": {
   "codemirror_mode": {
    "name": "ipython",
    "version": 3
   },
   "file_extension": ".py",
   "mimetype": "text/x-python",
   "name": "python",
   "nbconvert_exporter": "python",
   "pygments_lexer": "ipython3",
   "version": "3.7.4"
  }
 },
 "nbformat": 4,
 "nbformat_minor": 2
}
