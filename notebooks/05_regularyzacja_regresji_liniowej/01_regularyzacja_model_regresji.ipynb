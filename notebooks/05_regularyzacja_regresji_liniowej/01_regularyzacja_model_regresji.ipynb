{
 "cells": [
  {
   "cell_type": "markdown",
   "metadata": {},
   "source": [
    "# Regularyzacja w modelu regresji - wstęp"
   ]
  },
  {
   "cell_type": "code",
   "execution_count": 17,
   "metadata": {},
   "outputs": [],
   "source": [
    "import numpy as np\n",
    "import pandas as pd\n",
    "import random\n",
    "\n",
    "import matplotlib.pyplot as plt\n",
    "%matplotlib inline\n",
    "\n",
    "from matplotlib.pylab import rcParams\n",
    "rcParams['figure.figsize'] = 20, 10\n",
    "\n",
    "from scipy import stats\n",
    "from patsy import dmatrices\n",
    "\n",
    "from sklearn.linear_model import LinearRegression\n",
    "from sklearn.linear_model import Ridge\n",
    "from sklearn.linear_model import Lasso\n",
    "from sklearn.preprocessing import StandardScaler\n",
    "from sklearn.pipeline import make_pipeline\n",
    "from sklearn.preprocessing import PolynomialFeatures "
   ]
  },
  {
   "cell_type": "markdown",
   "metadata": {},
   "source": [
    "# Zadanie 1a"
   ]
  },
  {
   "cell_type": "markdown",
   "metadata": {},
   "source": [
    "Wygeneruj $n$ par punktów (x, y) takich, że\n",
    "$$\n",
    "y = x - 2x^2 + 0.5x^3 + e,\n",
    "$$\n",
    "gdzie $e\\sim\\mathcal{N}(\\mu, \\sigma)$. \n",
    "A następnie dopasuj model\n",
    "\n",
    "a) regresji liniowej: $y=\\beta_0 + \\beta_1\\cdot x$\n",
    "\n",
    "b) regresji wielomianowej stopnia 2: $y=\\beta_0 + \\beta_1\\cdot x + \\beta_2\\cdot x^2$,\n",
    "\n",
    "c) regresji wielomianowej stopnia 3: $y=\\beta_0 + \\beta_1\\cdot x + \\beta_2\\cdot x^2 + \\beta_3\\cdot x^3$,\n",
    "\n",
    "d) regresji wielomianowej stopnia 20: $y=\\beta_0 + \\beta_1\\cdot x + \\beta_2\\cdot x^2 + \\ldots + \\beta_{20}\\cdot x^{20}$.\n",
    "\n",
    "Zaznacz na wykresie rozproszenia punktów $(x, y)$ funkcję regresji.\n",
    "\n",
    "**Wskazówka**: `ols('y ~ x + I(x**k)', data_frame)` z `statsmodels.formula.api` lub `PolynomialFeatures` z `sklearn.preprocessing`"
   ]
  },
  {
   "cell_type": "code",
   "execution_count": 3,
   "metadata": {},
   "outputs": [],
   "source": [
    "n = 50\n",
    "x = stats.uniform.rvs(size=n, loc=-3, scale=6)\n",
    "y = x - 2 * (x ** 2) + 0.5 * (x ** 3) + stats.norm.rvs(size=n, loc=2, scale=2)"
   ]
  },
  {
   "cell_type": "code",
   "execution_count": 4,
   "metadata": {},
   "outputs": [
    {
     "data": {
      "text/plain": [
       "<matplotlib.collections.PathCollection at 0x7ff2623a0610>"
      ]
     },
     "execution_count": 4,
     "metadata": {},
     "output_type": "execute_result"
    },
    {
     "data": {
      "image/png": "[encoded data removed]",
      "text/plain": [
       "<Figure size 432x288 with 1 Axes>"
      ]
     },
     "metadata": {
      "needs_background": "light"
     },
     "output_type": "display_data"
    }
   ],
   "source": [
    "plt.scatter(x, y)"
   ]
  },
  {
   "cell_type": "code",
   "execution_count": 6,
   "metadata": {},
   "outputs": [
    {
     "data": {
      "text/plain": [
       "LinearRegression(copy_X=True, fit_intercept=True, n_jobs=None, normalize=False)"
      ]
     },
     "execution_count": 6,
     "metadata": {},
     "output_type": "execute_result"
    }
   ],
   "source": [
    "# a)\n",
    "X = x.reshape(-1, 1)\n",
    "model1 = LinearRegression(fit_intercept=True)\n",
    "model1.fit(X, y)"
   ]
  },
  {
   "cell_type": "code",
   "execution_count": 8,
   "metadata": {},
   "outputs": [
    {
     "data": {
      "text/plain": [
       "[-4.636086867498542, 4.118900742321859]"
      ]
     },
     "execution_count": 8,
     "metadata": {},
     "output_type": "execute_result"
    }
   ],
   "source": [
    "model1_params = [model1.intercept_] + list(model1.coef_)\n",
    "model1_params"
   ]
  },
  {
   "cell_type": "code",
   "execution_count": 11,
   "metadata": {},
   "outputs": [
    {
     "name": "stdout",
     "output_type": "stream",
     "text": [
      "Wspłczynnik determinacji R2: 0.618002572884913\n",
      "Współczynniki prostej regresji: [-4.636086867498542, 4.118900742321859]\n"
     ]
    }
   ],
   "source": [
    "print(\"Wspłczynnik determinacji R2: {}\".format(model1.score(X, y)))\n",
    "print(\"Współczynniki prostej regresji: {}\".format(model1_params))"
   ]
  },
  {
   "cell_type": "code",
   "execution_count": 24,
   "metadata": {},
   "outputs": [
    {
     "data": {
      "image/png": "[encoded data removed]",
      "text/plain": [
       "<Figure size 1296x720 with 1 Axes>"
      ]
     },
     "metadata": {
      "needs_background": "light"
     },
     "output_type": "display_data"
    }
   ],
   "source": [
    "plt.figure(figsize=(18, 10))\n",
    "\n",
    "plt.scatter(x, y)\n",
    "plt.plot(x, x * model1_params[1] + model1_params[0], color='red', label=\"degree=1\")\n",
    "plt.legend(loc='upper left')\n",
    "plt.show()"
   ]
  },
  {
   "cell_type": "code",
   "execution_count": 23,
   "metadata": {},
   "outputs": [],
   "source": [
    "?plt.legend"
   ]
  },
  {
   "cell_type": "code",
   "execution_count": 25,
   "metadata": {},
   "outputs": [
    {
     "data": {
      "text/plain": [
       "Pipeline(memory=None,\n",
       "         steps=[('polynomialfeatures',\n",
       "                 PolynomialFeatures(degree=2, include_bias=True,\n",
       "                                    interaction_only=False, order='C')),\n",
       "                ('linearregression',\n",
       "                 LinearRegression(copy_X=True, fit_intercept=True, n_jobs=None,\n",
       "                                  normalize=False))],\n",
       "         verbose=False)"
      ]
     },
     "execution_count": 25,
     "metadata": {},
     "output_type": "execute_result"
    }
   ],
   "source": [
    "# b) \n",
    "\n",
    "model2 = make_pipeline(\n",
    "    PolynomialFeatures(degree=2),\n",
    "    LinearRegression()\n",
    ")\n",
    "\n",
    "model2.fit(X, y)"
   ]
  },
  {
   "cell_type": "code",
   "execution_count": 27,
   "metadata": {},
   "outputs": [
    {
     "data": {
      "text/plain": [
       "[2.1938027956299164, 0.0, 3.5517874198965185, -2.152567525221587]"
      ]
     },
     "execution_count": 27,
     "metadata": {},
     "output_type": "execute_result"
    }
   ],
   "source": [
    "model2_params = [model2['linearregression'].intercept_] + list(model2['linearregression'].coef_)\n",
    "model2_params"
   ]
  },
  {
   "cell_type": "code",
   "execution_count": 28,
   "metadata": {
    "scrolled": true
   },
   "outputs": [
    {
     "name": "stdout",
     "output_type": "stream",
     "text": [
      "Wspłczynnik determinacji R2: 0.9160084337594142\n",
      "Współczynniki prostej regresji: [2.1938027956299164, 0.0, 3.5517874198965185, -2.152567525221587]\n"
     ]
    }
   ],
   "source": [
    "print(\"Wspłczynnik determinacji R2: {}\".format(model2.score(X, y)))\n",
    "print(\"Współczynniki prostej regresji: {}\".format(model2_params))"
   ]
  },
  {
   "cell_type": "code",
   "execution_count": 30,
   "metadata": {},
   "outputs": [],
   "source": [
    "model2_fittedvalues = model2.predict(X) # y = b0 + b1 * x + b2 * x^2"
   ]
  },
  {
   "cell_type": "code",
   "execution_count": 31,
   "metadata": {},
   "outputs": [],
   "source": [
    "import operator"
   ]
  },
  {
   "cell_type": "code",
   "execution_count": 36,
   "metadata": {},
   "outputs": [
    {
     "data": {
      "image/png": "[encoded data removed]",
      "text/plain": [
       "<Figure size 1296x720 with 1 Axes>"
      ]
     },
     "metadata": {
      "needs_background": "light"
     },
     "output_type": "display_data"
    }
   ],
   "source": [
    "plt.figure(figsize=(18, 10))\n",
    "\n",
    "plt.scatter(x, y)\n",
    "plt.plot(x, x * model1_params[1] + model1_params[0], color='red', label=\"degree=1\")\n",
    "         \n",
    "sorted_zip = sorted(zip(x, model2_fittedvalues), key=operator.itemgetter(0))\n",
    "x_range, y_poly_pred = zip(*sorted_zip)\n",
    "\n",
    "plt.plot(x_range, y_poly_pred, color='green', label='degree=2')\n",
    "         \n",
    "plt.legend(loc='upper left')\n",
    "plt.show()"
   ]
  },
  {
   "cell_type": "code",
   "execution_count": null,
   "metadata": {},
   "outputs": [],
   "source": []
  },
  {
   "cell_type": "code",
   "execution_count": null,
   "metadata": {},
   "outputs": [],
   "source": []
  },
  {
   "cell_type": "code",
   "execution_count": null,
   "metadata": {},
   "outputs": [],
   "source": []
  },
  {
   "cell_type": "code",
   "execution_count": null,
   "metadata": {},
   "outputs": [],
   "source": []
  },
  {
   "cell_type": "markdown",
   "metadata": {},
   "source": [
    "# Zadanie 1b"
   ]
  },
  {
   "cell_type": "markdown",
   "metadata": {},
   "source": [
    "Dla wygenerowanej pary punktów dopasuj model regresji:\n",
    "\n",
    "a) wielomianowej stopnia 20 z regularyzacją grzbietową (Ridge) z parametrem $\\alpha = 0.1$,\n",
    "\n",
    "b) wielomianowej stopnia 20 z regularyzacją Lasso z parametrem $\\alpha = 0.1$.\n",
    "\n",
    "Powtórz podpunkt a) i b) dla różnych wartości parametru $\\alpha$, np. $\\alpha \\in \\{0.001, 0.005, 0.01, 0.5, 1, 5\\}$."
   ]
  },
  {
   "cell_type": "code",
   "execution_count": null,
   "metadata": {},
   "outputs": [],
   "source": []
  },
  {
   "cell_type": "code",
   "execution_count": null,
   "metadata": {},
   "outputs": [],
   "source": []
  },
  {
   "cell_type": "code",
   "execution_count": null,
   "metadata": {},
   "outputs": [],
   "source": []
  },
  {
   "cell_type": "code",
   "execution_count": null,
   "metadata": {},
   "outputs": [],
   "source": []
  },
  {
   "cell_type": "code",
   "execution_count": null,
   "metadata": {},
   "outputs": [],
   "source": []
  },
  {
   "cell_type": "code",
   "execution_count": null,
   "metadata": {},
   "outputs": [],
   "source": []
  },
  {
   "cell_type": "code",
   "execution_count": null,
   "metadata": {},
   "outputs": [],
   "source": []
  },
  {
   "cell_type": "code",
   "execution_count": null,
   "metadata": {},
   "outputs": [],
   "source": []
  },
  {
   "cell_type": "code",
   "execution_count": null,
   "metadata": {},
   "outputs": [],
   "source": []
  },
  {
   "cell_type": "markdown",
   "metadata": {},
   "source": [
    "# Zadanie 2"
   ]
  },
  {
   "cell_type": "markdown",
   "metadata": {},
   "source": [
    "Narysuj wykres funkcji \n",
    "$$y = cos(x) + \\epsilon$$\n",
    "dla $x \\in [\\pi, \\frac{2}{3}\\pi]$ oraz $\\epsilon \\in N(0, 0.25)$.\n",
    "\n",
    "Dopasuj model regresji:\n",
    "- liniowej\n",
    "- wielomianej stopnia 2, 10 i 20,\n",
    "- wielomianej stopnia 20 z regularyzacja Ridge z parametrem $\\alpha\\in\\{0.001, 0.01, 0.1, 1, 2\\}$.\n",
    "- wielomianej stopnia 20 z regularyzacją Lasso z parametrem $\\alpha\\in\\{0.001, 0.01, 0.1, 1, 2\\}$.\n",
    "\n",
    "**Wskazówka**: Napisz funkcję, która dla dowolnego zbioru dopasuje odpowiedni model."
   ]
  },
  {
   "cell_type": "code",
   "execution_count": null,
   "metadata": {},
   "outputs": [],
   "source": []
  },
  {
   "cell_type": "code",
   "execution_count": null,
   "metadata": {},
   "outputs": [],
   "source": []
  },
  {
   "cell_type": "code",
   "execution_count": null,
   "metadata": {},
   "outputs": [],
   "source": []
  },
  {
   "cell_type": "code",
   "execution_count": null,
   "metadata": {},
   "outputs": [],
   "source": []
  },
  {
   "cell_type": "code",
   "execution_count": null,
   "metadata": {},
   "outputs": [],
   "source": []
  },
  {
   "cell_type": "code",
   "execution_count": null,
   "metadata": {},
   "outputs": [],
   "source": []
  },
  {
   "cell_type": "code",
   "execution_count": null,
   "metadata": {},
   "outputs": [],
   "source": []
  }
 ],
 "metadata": {
  "kernelspec": {
   "display_name": "Python 3",
   "language": "python",
   "name": "python3"
  },
  "language_info": {
   "codemirror_mode": {
    "name": "ipython",
    "version": 3
   },
   "file_extension": ".py",
   "mimetype": "text/x-python",
   "name": "python",
   "nbconvert_exporter": "python",
   "pygments_lexer": "ipython3",
   "version": "3.7.4"
  }
 },
 "nbformat": 4,
 "nbformat_minor": 2
}
